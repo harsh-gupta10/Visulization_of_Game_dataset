{
 "cells": [
  {
   "cell_type": "code",
   "execution_count": 5,
   "metadata": {},
   "outputs": [],
   "source": [
    "import pandas as pd"
   ]
  },
  {
   "cell_type": "code",
   "execution_count": 6,
   "metadata": {},
   "outputs": [],
   "source": [
    "df = pd.read_csv(\"../Data/steam_games.csv\")"
   ]
  },
  {
   "cell_type": "code",
   "execution_count": 7,
   "metadata": {},
   "outputs": [],
   "source": [
    "# df.head()"
   ]
  },
  {
   "cell_type": "code",
   "execution_count": 8,
   "metadata": {},
   "outputs": [],
   "source": [
    "new_df = df[[\"release_date\", \"genre\"]]"
   ]
  },
  {
   "cell_type": "code",
   "execution_count": 9,
   "metadata": {},
   "outputs": [
    {
     "data": {
      "text/plain": [
       "dtype('O')"
      ]
     },
     "execution_count": 9,
     "metadata": {},
     "output_type": "execute_result"
    }
   ],
   "source": [
    "new_df.head()\n",
    "new_df['release_date'].dtype"
   ]
  },
  {
   "cell_type": "code",
   "execution_count": 10,
   "metadata": {},
   "outputs": [
    {
     "name": "stderr",
     "output_type": "stream",
     "text": [
      "/tmp/ipykernel_323501/2095397519.py:1: SettingWithCopyWarning: \n",
      "A value is trying to be set on a copy of a slice from a DataFrame.\n",
      "Try using .loc[row_indexer,col_indexer] = value instead\n",
      "\n",
      "See the caveats in the documentation: https://pandas.pydata.org/pandas-docs/stable/user_guide/indexing.html#returning-a-view-versus-a-copy\n",
      "  new_df[\"release_date\"] = new_df['release_date'].astype(str)\n"
     ]
    }
   ],
   "source": [
    "new_df[\"release_date\"] = new_df['release_date'].astype(str)\n"
   ]
  },
  {
   "cell_type": "code",
   "execution_count": 11,
   "metadata": {},
   "outputs": [
    {
     "name": "stderr",
     "output_type": "stream",
     "text": [
      "/tmp/ipykernel_323501/2329714298.py:2: SettingWithCopyWarning: \n",
      "A value is trying to be set on a copy of a slice from a DataFrame.\n",
      "Try using .loc[row_indexer,col_indexer] = value instead\n",
      "\n",
      "See the caveats in the documentation: https://pandas.pydata.org/pandas-docs/stable/user_guide/indexing.html#returning-a-view-versus-a-copy\n",
      "  new_df[\"release_date\"] = new_df[\"release_date\"].apply(lambda x: x[-4:])\n"
     ]
    }
   ],
   "source": [
    "# new_df['release_date'] = new_df['release_date'][-4:]\n",
    "new_df[\"release_date\"] = new_df[\"release_date\"].apply(lambda x: x[-4:])"
   ]
  },
  {
   "cell_type": "code",
   "execution_count": 12,
   "metadata": {},
   "outputs": [],
   "source": [
    "# new_df[\"release_date\"] = new_df[\"release_date\"].astype(int)\n",
    "# new_df[\"release_date\"] = pd.to_numeric(new_df[\"release_date\"], errors=\"coerce\")"
   ]
  },
  {
   "cell_type": "code",
   "execution_count": 13,
   "metadata": {},
   "outputs": [],
   "source": [
    "# new_df.head(40)"
   ]
  },
  {
   "cell_type": "code",
   "execution_count": 14,
   "metadata": {},
   "outputs": [],
   "source": [
    "# new_df['release_date'][0]"
   ]
  },
  {
   "cell_type": "code",
   "execution_count": 18,
   "metadata": {},
   "outputs": [],
   "source": [
    "new_df.to_csv('new_df.csv')"
   ]
  },
  {
   "cell_type": "code",
   "execution_count": 21,
   "metadata": {},
   "outputs": [],
   "source": [
    "import csv\n",
    "\n",
    "# Read the CSV file and store data in a dictionary grouped by release year\n",
    "grouped_data = {}\n",
    "with open(\"new_df.csv\", newline=\"\") as csvfile:\n",
    "    reader = csv.DictReader(csvfile)\n",
    "    for row in reader:\n",
    "        release_year = row[\"release_year\"]\n",
    "        if release_year not in grouped_data:\n",
    "            grouped_data[release_year] = []\n",
    "        grouped_data[release_year].append(row[\"genre\"])\n",
    "\n",
    "# Write the grouped data into a new CSV file\n",
    "with open(\"grouped_tags.csv\", \"w\", newline=\"\") as csvfile:\n",
    "    fieldnames = [\"release_year\", \"genre\"]\n",
    "    writer = csv.DictWriter(csvfile, fieldnames=fieldnames)\n",
    "    writer.writeheader()\n",
    "    for release_year, tags_list in grouped_data.items():\n",
    "        writer.writerow(\n",
    "            {\"release_year\": release_year, \"genre\": \",\".join(tags_list)}\n",
    "        )"
   ]
  },
  {
   "cell_type": "code",
   "execution_count": null,
   "metadata": {},
   "outputs": [
    {
     "data": {
      "text/html": [
       "<div>\n",
       "<style scoped>\n",
       "    .dataframe tbody tr th:only-of-type {\n",
       "        vertical-align: middle;\n",
       "    }\n",
       "\n",
       "    .dataframe tbody tr th {\n",
       "        vertical-align: top;\n",
       "    }\n",
       "\n",
       "    .dataframe thead th {\n",
       "        text-align: right;\n",
       "    }\n",
       "</style>\n",
       "<table border=\"1\" class=\"dataframe\">\n",
       "  <thead>\n",
       "    <tr style=\"text-align: right;\">\n",
       "      <th></th>\n",
       "      <th>name</th>\n",
       "      <th>release_date</th>\n",
       "      <th>popular_tags</th>\n",
       "    </tr>\n",
       "  </thead>\n",
       "  <tbody>\n",
       "    <tr>\n",
       "      <th>0</th>\n",
       "      <td>DOOM</td>\n",
       "      <td>2016</td>\n",
       "      <td>FPS,Gore,Action,Demons,Shooter,First-Person,Gr...</td>\n",
       "    </tr>\n",
       "    <tr>\n",
       "      <th>1</th>\n",
       "      <td>PLAYERUNKNOWN'S BATTLEGROUNDS</td>\n",
       "      <td>2017</td>\n",
       "      <td>Survival,Shooter,Multiplayer,Battle Royale,PvP...</td>\n",
       "    </tr>\n",
       "    <tr>\n",
       "      <th>2</th>\n",
       "      <td>BATTLETECH</td>\n",
       "      <td>2018</td>\n",
       "      <td>Mechs,Strategy,Turn-Based,Turn-Based Tactics,S...</td>\n",
       "    </tr>\n",
       "    <tr>\n",
       "      <th>3</th>\n",
       "      <td>DayZ</td>\n",
       "      <td>2018</td>\n",
       "      <td>Survival,Zombies,Open World,Multiplayer,PvP,Ma...</td>\n",
       "    </tr>\n",
       "    <tr>\n",
       "      <th>4</th>\n",
       "      <td>EVE Online</td>\n",
       "      <td>2003</td>\n",
       "      <td>Space,Massively Multiplayer,Sci-fi,Sandbox,MMO...</td>\n",
       "    </tr>\n",
       "    <tr>\n",
       "      <th>...</th>\n",
       "      <td>...</td>\n",
       "      <td>...</td>\n",
       "      <td>...</td>\n",
       "    </tr>\n",
       "    <tr>\n",
       "      <th>40828</th>\n",
       "      <td>Rocksmith® 2014 Edition – Remastered – Sabaton...</td>\n",
       "      <td>2019</td>\n",
       "      <td>Casual,Simulation</td>\n",
       "    </tr>\n",
       "    <tr>\n",
       "      <th>40829</th>\n",
       "      <td>Rocksmith® 2014 Edition – Remastered – Stone T...</td>\n",
       "      <td>2019</td>\n",
       "      <td>Casual,Simulation</td>\n",
       "    </tr>\n",
       "    <tr>\n",
       "      <th>40830</th>\n",
       "      <td>Fantasy Grounds - Quests of Doom 4: A Midnight...</td>\n",
       "      <td>2018</td>\n",
       "      <td>RPG,Indie,Strategy,Software,Turn-Based,Fantasy...</td>\n",
       "    </tr>\n",
       "    <tr>\n",
       "      <th>40831</th>\n",
       "      <td>Mega Man X5 Sound Collection</td>\n",
       "      <td>2018</td>\n",
       "      <td>Action</td>\n",
       "    </tr>\n",
       "    <tr>\n",
       "      <th>40832</th>\n",
       "      <td>Stories In Stone</td>\n",
       "      <td>2018</td>\n",
       "      <td>RPG,Adventure</td>\n",
       "    </tr>\n",
       "  </tbody>\n",
       "</table>\n",
       "<p>40833 rows × 3 columns</p>\n",
       "</div>"
      ],
      "text/plain": [
       "                                                    name release_date  \\\n",
       "0                                                   DOOM         2016   \n",
       "1                          PLAYERUNKNOWN'S BATTLEGROUNDS         2017   \n",
       "2                                             BATTLETECH         2018   \n",
       "3                                                   DayZ         2018   \n",
       "4                                             EVE Online         2003   \n",
       "...                                                  ...          ...   \n",
       "40828  Rocksmith® 2014 Edition – Remastered – Sabaton...         2019   \n",
       "40829  Rocksmith® 2014 Edition – Remastered – Stone T...         2019   \n",
       "40830  Fantasy Grounds - Quests of Doom 4: A Midnight...         2018   \n",
       "40831                       Mega Man X5 Sound Collection         2018   \n",
       "40832                                   Stories In Stone         2018   \n",
       "\n",
       "                                            popular_tags  \n",
       "0      FPS,Gore,Action,Demons,Shooter,First-Person,Gr...  \n",
       "1      Survival,Shooter,Multiplayer,Battle Royale,PvP...  \n",
       "2      Mechs,Strategy,Turn-Based,Turn-Based Tactics,S...  \n",
       "3      Survival,Zombies,Open World,Multiplayer,PvP,Ma...  \n",
       "4      Space,Massively Multiplayer,Sci-fi,Sandbox,MMO...  \n",
       "...                                                  ...  \n",
       "40828                                  Casual,Simulation  \n",
       "40829                                  Casual,Simulation  \n",
       "40830  RPG,Indie,Strategy,Software,Turn-Based,Fantasy...  \n",
       "40831                                             Action  \n",
       "40832                                      RPG,Adventure  \n",
       "\n",
       "[40833 rows x 3 columns]"
      ]
     },
     "execution_count": 121,
     "metadata": {},
     "output_type": "execute_result"
    }
   ],
   "source": []
  },
  {
   "cell_type": "code",
   "execution_count": null,
   "metadata": {},
   "outputs": [
    {
     "data": {
      "text/html": [
       "<div>\n",
       "<style scoped>\n",
       "    .dataframe tbody tr th:only-of-type {\n",
       "        vertical-align: middle;\n",
       "    }\n",
       "\n",
       "    .dataframe tbody tr th {\n",
       "        vertical-align: top;\n",
       "    }\n",
       "\n",
       "    .dataframe thead th {\n",
       "        text-align: right;\n",
       "    }\n",
       "</style>\n",
       "<table border=\"1\" class=\"dataframe\">\n",
       "  <thead>\n",
       "    <tr style=\"text-align: right;\">\n",
       "      <th></th>\n",
       "      <th>popular_tags</th>\n",
       "      <th>release_date</th>\n",
       "    </tr>\n",
       "  </thead>\n",
       "  <tbody>\n",
       "    <tr>\n",
       "      <th>0</th>\n",
       "      <td>1980s,Retro,Great Soundtrack,Rhythm,Indie,Arca...</td>\n",
       "      <td>2016</td>\n",
       "    </tr>\n",
       "    <tr>\n",
       "      <th>1</th>\n",
       "      <td>1990's,Simulation,Point &amp; Click,Alternate Hist...</td>\n",
       "      <td>2019</td>\n",
       "    </tr>\n",
       "    <tr>\n",
       "      <th>2</th>\n",
       "      <td>2D Fighter,Anime,Fighting,Action,Great Soundtr...</td>\n",
       "      <td>2018</td>\n",
       "    </tr>\n",
       "    <tr>\n",
       "      <th>3</th>\n",
       "      <td>2D Fighter,Fighting,Anime,Action,Great Soundtr...</td>\n",
       "      <td>2018</td>\n",
       "    </tr>\n",
       "    <tr>\n",
       "      <th>4</th>\n",
       "      <td>2D,Indie,Word Game,Side Scroller,Puzzle-Platfo...</td>\n",
       "      <td>2016</td>\n",
       "    </tr>\n",
       "    <tr>\n",
       "      <th>...</th>\n",
       "      <td>...</td>\n",
       "      <td>...</td>\n",
       "    </tr>\n",
       "    <tr>\n",
       "      <th>20847</th>\n",
       "      <td>Zombies,Survival,Open World,Parkour,Co-op,Mult...</td>\n",
       "      <td>2015</td>\n",
       "    </tr>\n",
       "    <tr>\n",
       "      <th>20848</th>\n",
       "      <td>Zombies,Survival,Pixel Graphics,Indie,Strategy...</td>\n",
       "      <td>2015</td>\n",
       "    </tr>\n",
       "    <tr>\n",
       "      <th>20849</th>\n",
       "      <td>Zombies,Tower Defense,Action,Survival,Co-op,Go...</td>\n",
       "      <td>2017</td>\n",
       "    </tr>\n",
       "    <tr>\n",
       "      <th>20850</th>\n",
       "      <td>Zombies,VR,Horror,Action,Multiplayer,Adventure...</td>\n",
       "      <td>2016</td>\n",
       "    </tr>\n",
       "    <tr>\n",
       "      <th>20851</th>\n",
       "      <td>Zombies,World War II,FPS,Multiplayer,Action,Sh...</td>\n",
       "      <td>2008</td>\n",
       "    </tr>\n",
       "  </tbody>\n",
       "</table>\n",
       "<p>20852 rows × 2 columns</p>\n",
       "</div>"
      ],
      "text/plain": [
       "                                            popular_tags release_date\n",
       "0      1980s,Retro,Great Soundtrack,Rhythm,Indie,Arca...         2016\n",
       "1      1990's,Simulation,Point & Click,Alternate Hist...         2019\n",
       "2      2D Fighter,Anime,Fighting,Action,Great Soundtr...         2018\n",
       "3      2D Fighter,Fighting,Anime,Action,Great Soundtr...         2018\n",
       "4      2D,Indie,Word Game,Side Scroller,Puzzle-Platfo...         2016\n",
       "...                                                  ...          ...\n",
       "20847  Zombies,Survival,Open World,Parkour,Co-op,Mult...         2015\n",
       "20848  Zombies,Survival,Pixel Graphics,Indie,Strategy...         2015\n",
       "20849  Zombies,Tower Defense,Action,Survival,Co-op,Go...         2017\n",
       "20850  Zombies,VR,Horror,Action,Multiplayer,Adventure...         2016\n",
       "20851  Zombies,World War II,FPS,Multiplayer,Action,Sh...         2008\n",
       "\n",
       "[20852 rows x 2 columns]"
      ]
     },
     "execution_count": 120,
     "metadata": {},
     "output_type": "execute_result"
    }
   ],
   "source": []
  },
  {
   "cell_type": "code",
   "execution_count": null,
   "metadata": {},
   "outputs": [],
   "source": []
  }
 ],
 "metadata": {
  "kernelspec": {
   "display_name": "Python 3",
   "language": "python",
   "name": "python3"
  },
  "language_info": {
   "codemirror_mode": {
    "name": "ipython",
    "version": 3
   },
   "file_extension": ".py",
   "mimetype": "text/x-python",
   "name": "python",
   "nbconvert_exporter": "python",
   "pygments_lexer": "ipython3",
   "version": "3.10.12"
  }
 },
 "nbformat": 4,
 "nbformat_minor": 2
}
